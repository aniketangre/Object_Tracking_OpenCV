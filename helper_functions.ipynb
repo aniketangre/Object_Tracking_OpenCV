{
 "cells": [
  {
   "cell_type": "code",
   "execution_count": 3,
   "metadata": {},
   "outputs": [],
   "source": [
    "# Range detector to find out color ranges for particular object in the video or image \n",
    "\n",
    "import cv2\n",
    "from operator import xor\n",
    "\n",
    "def callback(value):\n",
    "    pass\n",
    "\n",
    "def setup_trackbars(range_filter):\n",
    "    cv2.namedWindow(\"Trackbars\", 0)\n",
    "    # Create trackbars\n",
    "    for i in [\"MIN\", \"MAX\"]:\n",
    "        v = 0 if i == \"MIN\" else 255\n",
    "        for j in range_filter:\n",
    "            cv2.createTrackbar(\"%s_%s\" % (j, i), \"Trackbars\", v, 255, callback)\n",
    "\n",
    "def get_trackbar_values(range_filter):\n",
    "    values = []\n",
    "    # Get trackbaer position and return values\n",
    "    for i in [\"MIN\", \"MAX\"]:\n",
    "        for j in range_filter:\n",
    "            v = cv2.getTrackbarPos(\"%s_%s\" % (j, i), \"Trackbars\")\n",
    "            values.append(v)\n",
    "\n",
    "    return values\n",
    "\n",
    "def color_range_detector(filt,path):\n",
    "    \n",
    "    range_filter = filt.upper()\n",
    "    \n",
    "    # Read image and resize \n",
    "    img = cv2.imread(path)\n",
    "    img = cv2.resize(img,(350,350))\n",
    "    \n",
    "    # Convert to HSV color space\n",
    "    if range_filter == 'RGB':\n",
    "        frame_to_thresh = img.copy()\n",
    "    else:\n",
    "        frame_to_thresh = cv2.cvtColor(img, cv2.COLOR_BGR2HSV)\n",
    "        \n",
    "    setup_trackbars(range_filter)\n",
    "\n",
    "    while True:\n",
    "        v1_min, v2_min, v3_min, v1_max, v2_max, v3_max = get_trackbar_values(range_filter)\n",
    "        # Get current threshold values\n",
    "        thresh = cv2.inRange(frame_to_thresh, (v1_min, v2_min, v3_min), (v1_max, v2_max, v3_max))\n",
    "        cv2.imshow(\"Original\", img)\n",
    "        cv2.imshow(\"Thresh\", thresh)\n",
    "        \n",
    "        # Press 'e' to end the color range detector\n",
    "        if cv2.waitKey(1) & 0xFF is ord('e'):\n",
    "            break"
   ]
  },
  {
   "cell_type": "code",
   "execution_count": 1,
   "metadata": {},
   "outputs": [],
   "source": [
    "#path = 'Range.jpg'\n",
    "#path = 'ball_track.jpg'\n",
    "#filt = 'rgb'\n",
    "#color_range_detector(filt,path)"
   ]
  },
  {
   "cell_type": "code",
   "execution_count": null,
   "metadata": {},
   "outputs": [],
   "source": []
  }
 ],
 "metadata": {
  "kernelspec": {
   "display_name": "Python 3",
   "language": "python",
   "name": "python3"
  },
  "language_info": {
   "codemirror_mode": {
    "name": "ipython",
    "version": 3
   },
   "file_extension": ".py",
   "mimetype": "text/x-python",
   "name": "python",
   "nbconvert_exporter": "python",
   "pygments_lexer": "ipython3",
   "version": "3.7.4"
  }
 },
 "nbformat": 4,
 "nbformat_minor": 2
}
